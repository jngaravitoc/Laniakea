{
 "metadata": {
  "name": "",
  "signature": "sha256:9d8c67b83e8e0fe771dc0064c2e6ecbf0f82467a1641bf9340bdbe1d84510274"
 },
 "nbformat": 3,
 "nbformat_minor": 0,
 "worksheets": [
  {
   "cells": [
    {
     "cell_type": "code",
     "collapsed": false,
     "input": [
      "import numpy as np\n",
      "import matplotlib.pyplot as plt"
     ],
     "language": "python",
     "metadata": {},
     "outputs": [],
     "prompt_number": 4
    },
    {
     "cell_type": "code",
     "collapsed": false,
     "input": [
      "# txt files\n",
      "# csv files\n",
      "# ascii files\n",
      "# bin files\n",
      "# reading lines"
     ],
     "language": "python",
     "metadata": {},
     "outputs": [],
     "prompt_number": 5
    },
    {
     "cell_type": "markdown",
     "metadata": {},
     "source": [
      "Escriba un programa que lea los 100 archivos test00100.txt y que haga una animaci\u00f3n de cada 10 archivos de las columnas 1 y 2.\n",
      "Al ejecutar el programa debe resultar la animacion"
     ]
    },
    {
     "cell_type": "code",
     "collapsed": false,
     "input": [
      "for i in range(9):\n",
      "    data  = np.loadtxt(\"test0001\" + str(i) + \".txt\")"
     ],
     "language": "python",
     "metadata": {},
     "outputs": [],
     "prompt_number": 21
    },
    {
     "cell_type": "code",
     "collapsed": false,
     "input": [
      "print np.shape(data)"
     ],
     "language": "python",
     "metadata": {},
     "outputs": [
      {
       "output_type": "stream",
       "stream": "stdout",
       "text": [
        "(20, 7)\n"
       ]
      }
     ],
     "prompt_number": 26
    },
    {
     "cell_type": "code",
     "collapsed": false,
     "input": [
      "x = data[:,0]\n",
      "y = data[:,1]\n",
      "z = data[:,2]"
     ],
     "language": "python",
     "metadata": {},
     "outputs": [],
     "prompt_number": 18
    },
    {
     "cell_type": "code",
     "collapsed": false,
     "input": [
      "plt.scatter(x, y)\n",
      "plt.show()"
     ],
     "language": "python",
     "metadata": {},
     "outputs": [],
     "prompt_number": 11
    },
    {
     "cell_type": "markdown",
     "metadata": {},
     "source": [
      "Escriba un programa que lea las primeras n lineas del archivo metamorfosis. \n",
      "cuantas vocales hay en cada linea?"
     ]
    },
    {
     "cell_type": "markdown",
     "metadata": {},
     "source": [
      "Escriba un programa lea el siguiente archivo .txt separado por \"+\" paselo a un .csv y guardelo en un archivo. \n",
      "Haga lo mismo pero usando sed desde el notebook y leyendo el archivo .csv.\n",
      "\n",
      "Ayuda: Para escribir en bash desde el notebook use !, ejemplor: !ls mostrara los archivos que hay en el directorio donde esta \n",
      "        abierto el ipython notebook.\n",
      "        "
     ]
    },
    {
     "cell_type": "markdown",
     "metadata": {},
     "source": [
      "escriba un tutorial de como leer y escrbir un archivo .bin (binarion) en python. Este tutorial debe tener al menos un ejemplo."
     ]
    },
    {
     "cell_type": "code",
     "collapsed": false,
     "input": [],
     "language": "python",
     "metadata": {},
     "outputs": []
    }
   ],
   "metadata": {}
  }
 ]
}