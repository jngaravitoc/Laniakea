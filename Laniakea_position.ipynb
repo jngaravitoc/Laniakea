{
 "metadata": {
  "name": "",
  "signature": "sha256:157921c866c61075762baebacabd11282509b3ca709fdc2de10646e5c0a1975b"
 },
 "nbformat": 3,
 "nbformat_minor": 0,
 "worksheets": [
  {
   "cells": [
    {
     "cell_type": "code",
     "collapsed": false,
     "input": [
      "import numpy as np\n",
      "import matplotlib as plt\n",
      "import astropy.coordinates\n",
      "from astropy.coordinates import SkyCoord, ICRS, Galactic, FK4, FK5, Angle, Latitude, Longitude\n",
      "from astropy import units as u\n"
     ],
     "language": "python",
     "metadata": {},
     "outputs": [],
     "prompt_number": 22
    },
    {
     "cell_type": "markdown",
     "metadata": {},
     "source": [
      "SGL = 130\n",
      "SGB = -30"
     ]
    },
    {
     "cell_type": "code",
     "collapsed": false,
     "input": [
      "GL = -37.17513\n",
      "GB = 3.03717\n",
      "# Using http://lambda.gsfc.nasa.gov/toolbox/tb_coordconv.cfm"
     ],
     "language": "python",
     "metadata": {},
     "outputs": [],
     "prompt_number": 54
    },
    {
     "cell_type": "code",
     "collapsed": false,
     "input": [
      "Laniakea = SkyCoord(l = -GL*u.degree, b= GB*u.degree, frame='galactic')\n",
      "Laniakea"
     ],
     "language": "python",
     "metadata": {},
     "outputs": [
      {
       "metadata": {},
       "output_type": "pyout",
       "prompt_number": 57,
       "text": [
        "<SkyCoord (Galactic): l=37.17513 deg, b=3.03717 deg>"
       ]
      }
     ],
     "prompt_number": 57
    },
    {
     "cell_type": "code",
     "collapsed": false,
     "input": [
      "LARDEC =Laniakea.fk5\n",
      "print LARDEC"
     ],
     "language": "python",
     "metadata": {},
     "outputs": [
      {
       "output_type": "stream",
       "stream": "stdout",
       "text": [
        "<SkyCoord (FK5): equinox=J2000.000, ra=282.08489029 deg, dec=5.15880517867 deg>\n"
       ]
      }
     ],
     "prompt_number": 58
    },
    {
     "cell_type": "code",
     "collapsed": false,
     "input": [
      "LARDEC.ra.hms"
     ],
     "language": "python",
     "metadata": {},
     "outputs": [
      {
       "metadata": {},
       "output_type": "pyout",
       "prompt_number": 59,
       "text": [
        "hms_tuple(h=18.0, m=48.0, s=20.373669502130269)"
       ]
      }
     ],
     "prompt_number": 59
    },
    {
     "cell_type": "code",
     "collapsed": false,
     "input": [
      "LARDEC.dec"
     ],
     "language": "python",
     "metadata": {},
     "outputs": [
      {
       "latex": [
        "$5^\\circ09{}^\\prime31.6986{}^{\\prime\\prime}$"
       ],
       "metadata": {},
       "output_type": "pyout",
       "prompt_number": 60,
       "text": [
        "<Latitude 5.158805178673797 deg>"
       ]
      }
     ],
     "prompt_number": 60
    },
    {
     "cell_type": "code",
     "collapsed": false,
     "input": [],
     "language": "python",
     "metadata": {},
     "outputs": []
    }
   ],
   "metadata": {}
  }
 ]
}